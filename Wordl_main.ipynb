{
 "cells": [
  {
   "cell_type": "code",
   "execution_count": 117,
   "metadata": {},
   "outputs": [],
   "source": [
    "# data manipilation\n",
    "import pandas as pd\n",
    "import numpy as np\n",
    "\n",
    "import json\n",
    "\n",
    "# plot\n",
    "import matplotlib.pyplot as plt"
   ]
  },
  {
   "cell_type": "code",
   "execution_count": 118,
   "metadata": {},
   "outputs": [],
   "source": [
    "# loading data\n",
    "with open('data\\wordsapi_sample.json') as json_file:\n",
    "    data = json.load(json_file)"
   ]
  },
  {
   "cell_type": "code",
   "execution_count": 119,
   "metadata": {},
   "outputs": [],
   "source": [
    "# create word list from dictionary entries\n",
    "word_list = list(data.keys())"
   ]
  },
  {
   "cell_type": "code",
   "execution_count": 120,
   "metadata": {},
   "outputs": [],
   "source": [
    "# select words of lenght 5\n",
    "def by_size(words, size):\n",
    "    # l = filter(lambda x: len(x)==size, words)\n",
    "    return [word for word in words if len(word) == size]"
   ]
  },
  {
   "cell_type": "code",
   "execution_count": 121,
   "metadata": {},
   "outputs": [],
   "source": [
    "l = by_size(word_list,5)"
   ]
  },
  {
   "cell_type": "code",
   "execution_count": 122,
   "metadata": {},
   "outputs": [],
   "source": [
    "# list(np.float_(l))"
   ]
  },
  {
   "cell_type": "code",
   "execution_count": 123,
   "metadata": {},
   "outputs": [],
   "source": [
    "# new_list = []\n",
    "# for word in l:\n",
    "#     try:\n",
    "#         float(word)\n",
    "#     except ValueError:\n",
    "#         new_list.append(word)"
   ]
  },
  {
   "cell_type": "code",
   "execution_count": 124,
   "metadata": {},
   "outputs": [],
   "source": [
    "# l = new_list"
   ]
  },
  {
   "cell_type": "code",
   "execution_count": 125,
   "metadata": {},
   "outputs": [],
   "source": [
    "letter = dict() \n",
    "letters = [\"first\",\"second\",\"third\",\"four\",\"five\"]\n",
    "for x in range(5):\n",
    "    letter[letters[x]] = dict()\n",
    "    for word in l:\n",
    "        if (word[x] in letter[letters[x]].keys()) == False:\n",
    "            letter[letters[x]][word[x]] = 1\n",
    "        else:\n",
    "            letter[letters[x]][word[x]] += 1\n"
   ]
  },
  {
   "cell_type": "code",
   "execution_count": 126,
   "metadata": {},
   "outputs": [
    {
     "data": {
      "text/plain": [
       "{'first': {'a': 74,\n",
       "  'b': 64,\n",
       "  'c': 70,\n",
       "  'd': 56,\n",
       "  'e': 21,\n",
       "  'f': 42,\n",
       "  'g': 48,\n",
       "  'h': 51,\n",
       "  'i': 22,\n",
       "  'j': 23,\n",
       "  'k': 39,\n",
       "  'l': 53,\n",
       "  'm': 54,\n",
       "  'n': 28,\n",
       "  'o': 22,\n",
       "  'p': 61,\n",
       "  'q': 6,\n",
       "  'r': 46,\n",
       "  's': 111,\n",
       "  't': 52,\n",
       "  'u': 16,\n",
       "  'v': 8,\n",
       "  'w': 22,\n",
       "  'y': 5,\n",
       "  'z': 7,\n",
       "  '1': 5,\n",
       "  'x': 1},\n",
       " 'second': {'b': 10,\n",
       "  'c': 11,\n",
       "  'd': 13,\n",
       "  'f': 2,\n",
       "  'l': 53,\n",
       "  'm': 18,\n",
       "  'n': 39,\n",
       "  'p': 14,\n",
       "  'r': 72,\n",
       "  's': 7,\n",
       "  't': 17,\n",
       "  'u': 92,\n",
       "  'w': 10,\n",
       "  'z': 3,\n",
       "  'g': 5,\n",
       "  'i': 114,\n",
       "  'o': 143,\n",
       "  'y': 22,\n",
       "  'a': 165,\n",
       "  'e': 130,\n",
       "  'h': 49,\n",
       "  'v': 2,\n",
       "  '-': 1,\n",
       "  'k': 3,\n",
       "  'x': 4,\n",
       "  'q': 1,\n",
       "  '5': 2,\n",
       "  '8': 2,\n",
       "  '9': 1,\n",
       "  ' ': 1,\n",
       "  'j': 1},\n",
       " 'third': {'b': 32,\n",
       "  'a': 76,\n",
       "  'd': 39,\n",
       "  't': 52,\n",
       "  'g': 28,\n",
       "  'l': 74,\n",
       "  'm': 39,\n",
       "  'y': 15,\n",
       "  'i': 92,\n",
       "  'n': 70,\n",
       "  'v': 28,\n",
       "  'z': 17,\n",
       "  'p': 21,\n",
       "  'r': 80,\n",
       "  's': 51,\n",
       "  'h': 9,\n",
       "  'o': 67,\n",
       "  'u': 45,\n",
       "  'e': 60,\n",
       "  'c': 34,\n",
       "  'k': 12,\n",
       "  'w': 16,\n",
       "  '-': 4,\n",
       "  'q': 5,\n",
       "  'f': 14,\n",
       "  'x': 10,\n",
       "  'j': 4,\n",
       "  \"'\": 1,\n",
       "  '0': 1,\n",
       "  '5': 2,\n",
       "  '9': 1,\n",
       "  '3': 1,\n",
       "  ' ': 6,\n",
       "  '.': 1},\n",
       " 'four': {'a': 102,\n",
       "  'r': 62,\n",
       "  'g': 24,\n",
       "  'e': 150,\n",
       "  'u': 51,\n",
       "  'i': 89,\n",
       "  'o': 70,\n",
       "  'c': 43,\n",
       "  'l': 55,\n",
       "  's': 52,\n",
       "  't': 66,\n",
       "  'p': 26,\n",
       "  'n': 57,\n",
       "  'b': 11,\n",
       "  'z': 14,\n",
       "  'h': 22,\n",
       "  'd': 33,\n",
       "  'k': 15,\n",
       "  'm': 17,\n",
       "  'v': 14,\n",
       "  'f': 7,\n",
       "  'w': 7,\n",
       "  'y': 5,\n",
       "  '�': 1,\n",
       "  'j': 4,\n",
       "  \"'\": 4,\n",
       "  '0': 3,\n",
       "  'x': 2,\n",
       "  'q': 1},\n",
       " 'five': {'i': 30,\n",
       "  'e': 144,\n",
       "  'x': 13,\n",
       "  'r': 66,\n",
       "  's': 94,\n",
       "  'd': 41,\n",
       "  'm': 20,\n",
       "  'n': 72,\n",
       "  'g': 21,\n",
       "  'y': 114,\n",
       "  'l': 59,\n",
       "  'o': 43,\n",
       "  'w': 5,\n",
       "  't': 56,\n",
       "  'c': 14,\n",
       "  'a': 96,\n",
       "  'k': 38,\n",
       "  'u': 10,\n",
       "  'h': 33,\n",
       "  \"'\": 1,\n",
       "  'p': 15,\n",
       "  'b': 4,\n",
       "  'z': 6,\n",
       "  'f': 5,\n",
       "  'j': 1,\n",
       "  'v': 4,\n",
       "  '.': 2}}"
      ]
     },
     "execution_count": 126,
     "metadata": {},
     "output_type": "execute_result"
    }
   ],
   "source": [
    "letter"
   ]
  },
  {
   "cell_type": "code",
   "execution_count": 129,
   "metadata": {},
   "outputs": [
    {
     "name": "stdout",
     "output_type": "stream",
     "text": [
      "['1', 'a', 'b', 'c', 'd', 'e', 'f', 'g', 'h', 'i', 'j', 'k', 'l', 'm', 'n', 'o', 'p', 'q', 'r', 's', 't', 'u', 'v', 'w', 'x', 'y', 'z']\n"
     ]
    },
    {
     "data": {
      "image/png": "[encoded data removed]",
      "text/plain": [
       "<Figure size 432x288 with 1 Axes>"
      ]
     },
     "metadata": {
      "needs_background": "light"
     },
     "output_type": "display_data"
    },
    {
     "name": "stdout",
     "output_type": "stream",
     "text": [
      "[' ', '-', '5', '8', '9', 'a', 'b', 'c', 'd', 'e', 'f', 'g', 'h', 'i', 'j', 'k', 'l', 'm', 'n', 'o', 'p', 'q', 'r', 's', 't', 'u', 'v', 'w', 'x', 'y', 'z']\n"
     ]
    },
    {
     "data": {
      "image/png": "[encoded data removed]",
      "text/plain": [
       "<Figure size 432x288 with 1 Axes>"
      ]
     },
     "metadata": {
      "needs_background": "light"
     },
     "output_type": "display_data"
    },
    {
     "name": "stdout",
     "output_type": "stream",
     "text": [
      "[' ', \"'\", '-', '.', '0', '3', '5', '9', 'a', 'b', 'c', 'd', 'e', 'f', 'g', 'h', 'i', 'j', 'k', 'l', 'm', 'n', 'o', 'p', 'q', 'r', 's', 't', 'u', 'v', 'w', 'x', 'y', 'z']\n"
     ]
    },
    {
     "data": {
      "image/png": "[encoded data removed]",
      "text/plain": [
       "<Figure size 432x288 with 1 Axes>"
      ]
     },
     "metadata": {
      "needs_background": "light"
     },
     "output_type": "display_data"
    },
    {
     "name": "stdout",
     "output_type": "stream",
     "text": [
      "[\"'\", '0', 'a', 'b', 'c', 'd', 'e', 'f', 'g', 'h', 'i', 'j', 'k', 'l', 'm', 'n', 'o', 'p', 'q', 'r', 's', 't', 'u', 'v', 'w', 'x', 'y', 'z', '�']\n"
     ]
    },
    {
     "data": {
      "image/png": "[encoded data removed]",
      "text/plain": [
       "<Figure size 432x288 with 1 Axes>"
      ]
     },
     "metadata": {
      "needs_background": "light"
     },
     "output_type": "display_data"
    },
    {
     "name": "stdout",
     "output_type": "stream",
     "text": [
      "[\"'\", '.', 'a', 'b', 'c', 'd', 'e', 'f', 'g', 'h', 'i', 'j', 'k', 'l', 'm', 'n', 'o', 'p', 'r', 's', 't', 'u', 'v', 'w', 'x', 'y', 'z']\n"
     ]
    },
    {
     "data": {
      "image/png": "[encoded data removed]",
      "text/plain": [
       "<Figure size 432x288 with 1 Axes>"
      ]
     },
     "metadata": {
      "needs_background": "light"
     },
     "output_type": "display_data"
    }
   ],
   "source": [
    "for p in letters:\n",
    "    d = sorted(letter[p]) \n",
    "    print(d)\n",
    "    plt.bar(list(letter[p].keys()), letter[p].values())\n",
    "    plt.title(p)\n",
    "    plt.show()"
   ]
  },
  {
   "cell_type": "code",
   "execution_count": 104,
   "metadata": {},
   "outputs": [
    {
     "data": {
      "text/plain": [
       "{'a': 102,\n",
       " 'r': 62,\n",
       " 'g': 24,\n",
       " 'e': 150,\n",
       " 'u': 51,\n",
       " 'i': 89,\n",
       " 'o': 70,\n",
       " 'c': 43,\n",
       " 'l': 55,\n",
       " 's': 52,\n",
       " 't': 66,\n",
       " 'p': 26,\n",
       " 'n': 57,\n",
       " 'b': 11,\n",
       " 'z': 14,\n",
       " 'h': 22,\n",
       " 'd': 33,\n",
       " 'k': 15,\n",
       " 'm': 17,\n",
       " 'v': 14,\n",
       " 'f': 7,\n",
       " 'w': 7,\n",
       " 'y': 5,\n",
       " '�': 1,\n",
       " 'j': 4,\n",
       " \"'\": 4,\n",
       " '0': 3,\n",
       " 'x': 2,\n",
       " 'q': 1}"
      ]
     },
     "execution_count": 104,
     "metadata": {},
     "output_type": "execute_result"
    }
   ],
   "source": [
    "letter[\"four\"]"
   ]
  },
  {
   "cell_type": "code",
   "execution_count": null,
   "metadata": {},
   "outputs": [],
   "source": []
  }
 ],
 "metadata": {
  "interpreter": {
   "hash": "336971fafdea4dd09ec2761f58af3b40b8710e0ba3f20d61b9731f8474bc36e8"
  },
  "kernelspec": {
   "display_name": "Python 3.8.8 ('mlcourse')",
   "language": "python",
   "name": "python3"
  },
  "language_info": {
   "codemirror_mode": {
    "name": "ipython",
    "version": 3
   },
   "file_extension": ".py",
   "mimetype": "text/x-python",
   "name": "python",
   "nbconvert_exporter": "python",
   "pygments_lexer": "ipython3",
   "version": "3.8.8"
  },
  "orig_nbformat": 4
 },
 "nbformat": 4,
 "nbformat_minor": 2
}
