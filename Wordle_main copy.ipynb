{
 "cells": [
  {
   "cell_type": "code",
   "execution_count": 1,
   "metadata": {},
   "outputs": [],
   "source": [
    "# data manipilation\n",
    "import pandas as pd\n",
    "import numpy as np\n",
    "\n",
    "import json\n",
    "\n",
    "# plot\n",
    "import matplotlib.pyplot as plt\n",
    "\n",
    "# functions\n",
    "from functions.functions import *"
   ]
  },
  {
   "cell_type": "code",
   "execution_count": 2,
   "metadata": {},
   "outputs": [],
   "source": [
    "# loading data\n",
    "# with open('data\\wordsapi_sample.json') as json_file:\n",
    "#     data_lex = json.load(json_file)\n",
    "\n",
    "with open(\"Data\\wordle-nyt-allowed-guesses.txt\", \"r\", newline=\"\\n\") as guess:\n",
    "    data_guess = guess.read().splitlines()\n",
    "\n",
    "with open(\"Data\\wordle-nyt-answers-alphabetical.txt\", \"r\", newline=\"\\n\") as awn:\n",
    "    data_awn = awn.read().splitlines()\n",
    "\n",
    "# create word list from dictionary entries\n",
    "# word_list = list(data_lex.keys())"
   ]
  },
  {
   "cell_type": "code",
   "execution_count": 15,
   "metadata": {},
   "outputs": [],
   "source": [
    "# lex_clean = by_size(word_list,5)"
   ]
  },
  {
   "cell_type": "code",
   "execution_count": 16,
   "metadata": {},
   "outputs": [
    {
     "name": "stdout",
     "output_type": "stream",
     "text": [
      "12947\n",
      "12947\n"
     ]
    }
   ],
   "source": [
    "merge_list = data_guess + data_awn # lex_clean + \n",
    "print(len(merge_list))\n",
    "clean_list = list(set(merge_list))\n",
    "print(len(clean_list))"
   ]
  },
  {
   "cell_type": "code",
   "execution_count": 17,
   "metadata": {},
   "outputs": [],
   "source": [
    "letter = count_letters(clean_list)"
   ]
  },
  {
   "cell_type": "code",
   "execution_count": 18,
   "metadata": {},
   "outputs": [],
   "source": [
    "# for p in letter:\n",
    "#     title_list = [\"first\",\"second\",\"third\",\"four\",\"five\"]\n",
    "#     plt.bar(list(letter[p].keys()), letter[p].values())\n",
    "#     plt.title(title_list[p])\n",
    "#     plt.show()"
   ]
  },
  {
   "cell_type": "code",
   "execution_count": 19,
   "metadata": {},
   "outputs": [],
   "source": [
    "word_rated, word_begin = rate_word(clean_list,letter)\n",
    "# sorted(list(word_begin.values()), reverse= True)\n",
    "# list(word_begin.keys())[list(word_begin.values()).index(10862)]\n"
   ]
  },
  {
   "cell_type": "code",
   "execution_count": 20,
   "metadata": {},
   "outputs": [],
   "source": [
    "class Game:\n",
    "    def __init__(self):\n",
    "        self.line = 0\n",
    "        self.present = dict() # dictonary of lists    {\"s\",l}\n",
    "        self.correct = dict() # dictonary of integers {\"s\",i}\n",
    "        self.absent = []      # list of stings [\"s\"]\n",
    "    \n",
    "    def guess(self, string_guess):\n",
    "        self.line += 1\n",
    "\n",
    "    \n",
    "        \n"
   ]
  },
  {
   "cell_type": "code",
   "execution_count": 21,
   "metadata": {},
   "outputs": [],
   "source": [
    "guess_1 = \"cares\""
   ]
  },
  {
   "cell_type": "code",
   "execution_count": 22,
   "metadata": {},
   "outputs": [
    {
     "data": {
      "text/plain": [
       "12947"
      ]
     },
     "execution_count": 22,
     "metadata": {},
     "output_type": "execute_result"
    }
   ],
   "source": [
    "len(clean_list)"
   ]
  },
  {
   "cell_type": "code",
   "execution_count": 37,
   "metadata": {},
   "outputs": [],
   "source": [
    "present = {\"a\":[1,4],\"o\":[1],\"l\":[]} # {\"e\":[],\"a\":[],\"s\":[0,2,4]}\n",
    "correct = {\"l\":2} # {\"s\":i}\n",
    "absent = [\"c\",\"r\",\"e\",\"s\",\"d\",\"i\"]  # [\"s\",\"s\",\"s\"]"
   ]
  },
  {
   "cell_type": "code",
   "execution_count": 38,
   "metadata": {},
   "outputs": [],
   "source": [
    "# present = {\"l\":[3]} # {\"e\":[],\"a\":[],\"s\":[0,2,4]}\n",
    "# correct = {} # {\"s\":i}\n",
    "# absent = [\"c\",\"e\",\"s\",\"p\",\"y\",\"d\",\"m\",\"o\",\"n\",\"a\",\"r\",\"b\",\"u\",\"i\",\"t\"]  # [\"s\",\"s\",\"s\"]"
   ]
  },
  {
   "cell_type": "code",
   "execution_count": 39,
   "metadata": {},
   "outputs": [
    {
     "data": {
      "text/plain": [
       "207"
      ]
     },
     "execution_count": 39,
     "metadata": {},
     "output_type": "execute_result"
    }
   ],
   "source": [
    "present_filtered = filter_present(present,clean_list)\n",
    "len(present_filtered)"
   ]
  },
  {
   "cell_type": "code",
   "execution_count": 40,
   "metadata": {},
   "outputs": [
    {
     "name": "stdout",
     "output_type": "stream",
     "text": [
      "a 1\n",
      "a 4\n",
      "o 1\n"
     ]
    },
    {
     "data": {
      "text/plain": [
       "70"
      ]
     },
     "execution_count": 40,
     "metadata": {},
     "output_type": "execute_result"
    }
   ],
   "source": [
    "present_spot_filtered = filter_present_spot(present,present_filtered)\n",
    "len(present_spot_filtered)"
   ]
  },
  {
   "cell_type": "code",
   "execution_count": 41,
   "metadata": {},
   "outputs": [
    {
     "data": {
      "text/plain": [
       "28"
      ]
     },
     "execution_count": 41,
     "metadata": {},
     "output_type": "execute_result"
    }
   ],
   "source": [
    "absent_filtered = filter_absent(absent, present_spot_filtered)\n",
    "len(absent_filtered)"
   ]
  },
  {
   "cell_type": "code",
   "execution_count": 42,
   "metadata": {},
   "outputs": [
    {
     "data": {
      "text/plain": [
       "['allow',\n",
       " 'llano',\n",
       " 'atoll',\n",
       " 'gloam',\n",
       " 'ollav',\n",
       " 'offal',\n",
       " 'ploat',\n",
       " 'gloat',\n",
       " 'onlay',\n",
       " 'allot',\n",
       " 'azlon',\n",
       " 'omlah',\n",
       " 'aloof',\n",
       " 'float',\n",
       " 'pulao',\n",
       " 'altho',\n",
       " 'oflag',\n",
       " 'bloat',\n",
       " 'aloft',\n",
       " 'aloha',\n",
       " 'anglo',\n",
       " 'agloo',\n",
       " 'along',\n",
       " 'alloy',\n",
       " 'aglow',\n",
       " 'afoul',\n",
       " 'ablow',\n",
       " 'alamo']"
      ]
     },
     "execution_count": 42,
     "metadata": {},
     "output_type": "execute_result"
    }
   ],
   "source": [
    "absent_filtered"
   ]
  },
  {
   "cell_type": "code",
   "execution_count": 43,
   "metadata": {},
   "outputs": [
    {
     "data": {
      "text/plain": [
       "8"
      ]
     },
     "execution_count": 43,
     "metadata": {},
     "output_type": "execute_result"
    }
   ],
   "source": [
    "correct_filtered = filter_correct(correct,absent_filtered)\n",
    "len(correct_filtered)"
   ]
  },
  {
   "cell_type": "code",
   "execution_count": 44,
   "metadata": {},
   "outputs": [
    {
     "data": {
      "text/plain": [
       "['onlay', 'azlon', 'omlah', 'pulao', 'oflag', 'agloo', 'aglow', 'ablow']"
      ]
     },
     "execution_count": 44,
     "metadata": {},
     "output_type": "execute_result"
    }
   ],
   "source": [
    "correct_filtered"
   ]
  },
  {
   "cell_type": "code",
   "execution_count": 45,
   "metadata": {},
   "outputs": [],
   "source": [
    "letter_rate_2 = count_letters(correct_filtered)"
   ]
  },
  {
   "cell_type": "code",
   "execution_count": 46,
   "metadata": {},
   "outputs": [],
   "source": [
    "l, s = rate_word(correct_filtered,letter_rate_2)"
   ]
  },
  {
   "cell_type": "code",
   "execution_count": 47,
   "metadata": {},
   "outputs": [
    {
     "data": {
      "text/plain": [
       "{'onlay': 17,\n",
       " 'azlon': 18,\n",
       " 'omlah': 17,\n",
       " 'pulao': 16,\n",
       " 'oflag': 17,\n",
       " 'agloo': 18,\n",
       " 'aglow': 20,\n",
       " 'ablow': 19}"
      ]
     },
     "execution_count": 47,
     "metadata": {},
     "output_type": "execute_result"
    }
   ],
   "source": [
    "s"
   ]
  },
  {
   "cell_type": "code",
   "execution_count": 48,
   "metadata": {},
   "outputs": [
    {
     "data": {
      "text/plain": [
       "'aglow'"
      ]
     },
     "execution_count": 48,
     "metadata": {},
     "output_type": "execute_result"
    }
   ],
   "source": [
    "number = sorted(list(s.values()), reverse= True)[0]\n",
    "sorted(list(s.values()), reverse= True)\n",
    "\n",
    "list(s.keys())[list(s.values()).index(number)]"
   ]
  },
  {
   "cell_type": "code",
   "execution_count": 35,
   "metadata": {},
   "outputs": [],
   "source": [
    "# sorted(list(s.values()), reverse= True)"
   ]
  },
  {
   "cell_type": "code",
   "execution_count": 36,
   "metadata": {},
   "outputs": [
    {
     "data": {
      "image/png": "[encoded data removed]",
      "text/plain": [
       "<Figure size 432x288 with 1 Axes>"
      ]
     },
     "metadata": {
      "needs_background": "light"
     },
     "output_type": "display_data"
    },
    {
     "data": {
      "image/png": "[encoded data removed]",
      "text/plain": [
       "<Figure size 432x288 with 1 Axes>"
      ]
     },
     "metadata": {
      "needs_background": "light"
     },
     "output_type": "display_data"
    },
    {
     "data": {
      "image/png": "[encoded data removed]",
      "text/plain": [
       "<Figure size 432x288 with 1 Axes>"
      ]
     },
     "metadata": {
      "needs_background": "light"
     },
     "output_type": "display_data"
    },
    {
     "data": {
      "image/png": "[encoded data removed]",
      "text/plain": [
       "<Figure size 432x288 with 1 Axes>"
      ]
     },
     "metadata": {
      "needs_background": "light"
     },
     "output_type": "display_data"
    },
    {
     "data": {
      "image/png": "[encoded data removed]",
      "text/plain": [
       "<Figure size 432x288 with 1 Axes>"
      ]
     },
     "metadata": {
      "needs_background": "light"
     },
     "output_type": "display_data"
    }
   ],
   "source": [
    "for p in letter_rate_2:\n",
    "    title_list = [\"first\",\"second\",\"third\",\"four\",\"five\"]\n",
    "    plt.bar(list(letter_rate_2[p].keys()), letter_rate_2[p].values())\n",
    "    plt.title(title_list[p])\n",
    "    plt.show()"
   ]
  },
  {
   "cell_type": "code",
   "execution_count": null,
   "metadata": {},
   "outputs": [],
   "source": []
  },
  {
   "cell_type": "code",
   "execution_count": null,
   "metadata": {},
   "outputs": [],
   "source": []
  }
 ],
 "metadata": {
  "interpreter": {
   "hash": "50e31668aeaaba6bdb56ad8203512d9a0a7e869ce5c3cbd763561918d3ef40e3"
  },
  "kernelspec": {
   "display_name": "Python 3.8.8 ('mlcourse')",
   "language": "python",
   "name": "python3"
  },
  "language_info": {
   "codemirror_mode": {
    "name": "ipython",
    "version": 3
   },
   "file_extension": ".py",
   "mimetype": "text/x-python",
   "name": "python",
   "nbconvert_exporter": "python",
   "pygments_lexer": "ipython3",
   "version": "3.8.5"
  },
  "orig_nbformat": 4
 },
 "nbformat": 4,
 "nbformat_minor": 2
}
