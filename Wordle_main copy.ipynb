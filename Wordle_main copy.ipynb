{
 "cells": [
  {
   "cell_type": "code",
   "execution_count": 1,
   "metadata": {},
   "outputs": [],
   "source": [
    "# data manipilation\n",
    "import pandas as pd\n",
    "import numpy as np\n",
    "\n",
    "import json\n",
    "\n",
    "# plot\n",
    "import matplotlib.pyplot as plt\n",
    "\n",
    "# functions\n",
    "from functions.functions import *"
   ]
  },
  {
   "cell_type": "code",
   "execution_count": 2,
   "metadata": {},
   "outputs": [],
   "source": [
    "# loading data\n",
    "# with open('data\\wordsapi_sample.json') as json_file:\n",
    "#     data_lex = json.load(json_file)\n",
    "\n",
    "with open(\"Data\\wordle-nyt-allowed-guesses.txt\", \"r\", newline=\"\\n\") as guess:\n",
    "    data_guess = guess.read().splitlines()\n",
    "\n",
    "with open(\"Data\\wordle-nyt-answers-alphabetical.txt\", \"r\", newline=\"\\n\") as awn:\n",
    "    data_awn = awn.read().splitlines()\n",
    "\n",
    "# create word list from dictionary entries\n",
    "# word_list = list(data_lex.keys())"
   ]
  },
  {
   "cell_type": "code",
   "execution_count": 3,
   "metadata": {},
   "outputs": [],
   "source": [
    "# lex_clean = by_size(word_list,5)"
   ]
  },
  {
   "cell_type": "code",
   "execution_count": 4,
   "metadata": {},
   "outputs": [
    {
     "name": "stdout",
     "output_type": "stream",
     "text": [
      "12947\n",
      "12947\n"
     ]
    }
   ],
   "source": [
    "merge_list = data_guess + data_awn # lex_clean + \n",
    "print(len(merge_list))\n",
    "clean_list = list(set(merge_list))\n",
    "print(len(clean_list))"
   ]
  },
  {
   "cell_type": "code",
   "execution_count": 5,
   "metadata": {},
   "outputs": [],
   "source": [
    "letter = count_letters(clean_list)"
   ]
  },
  {
   "cell_type": "code",
   "execution_count": 6,
   "metadata": {},
   "outputs": [],
   "source": [
    "# for p in letter:\n",
    "#     title_list = [\"first\",\"second\",\"third\",\"four\",\"five\"]\n",
    "#     plt.bar(list(letter[p].keys()), letter[p].values())\n",
    "#     plt.title(title_list[p])\n",
    "#     plt.show()"
   ]
  },
  {
   "cell_type": "code",
   "execution_count": 7,
   "metadata": {},
   "outputs": [],
   "source": [
    "word_rated, word_begin = rate_word(clean_list,letter)\n",
    "# sorted(list(word_begin.values()), reverse= True)\n",
    "# list(word_begin.keys())[list(word_begin.values()).index(10862)]\n"
   ]
  },
  {
   "cell_type": "code",
   "execution_count": 8,
   "metadata": {},
   "outputs": [],
   "source": [
    "class Game:\n",
    "    def __init__(self):\n",
    "        self.line = 0\n",
    "        self.present = dict() # dictonary of lists    {\"s\",l}\n",
    "        self.correct = dict() # dictonary of integers {\"s\",i}\n",
    "        self.absent = []      # list of stings [\"s\"]\n",
    "    \n",
    "    def guess(self, string_guess):\n",
    "        self.line += 1\n",
    "\n",
    "    \n",
    "        \n"
   ]
  },
  {
   "cell_type": "code",
   "execution_count": 9,
   "metadata": {},
   "outputs": [],
   "source": [
    "guess_1 = \"cares\""
   ]
  },
  {
   "cell_type": "code",
   "execution_count": 10,
   "metadata": {},
   "outputs": [
    {
     "data": {
      "text/plain": [
       "12947"
      ]
     },
     "execution_count": 10,
     "metadata": {},
     "output_type": "execute_result"
    }
   ],
   "source": [
    "len(clean_list)"
   ]
  },
  {
   "cell_type": "code",
   "execution_count": 44,
   "metadata": {},
   "outputs": [],
   "source": [
    "present = {\"e\":[3,4],\"s\":[],\"p\":[],\"l\":[]} # {\"e\":[],\"a\":[],\"s\":[0,2,4]}\n",
    "correct = {\"s\":0,\"p\":1,\"e\":2,\"l\":3} # {\"s\":i}\n",
    "absent = [\"c\",\"a\",\"r\",\"h\",\"i\",\"t\",\"d\"]  # [\"s\",\"s\",\"s\"]"
   ]
  },
  {
   "cell_type": "code",
   "execution_count": 45,
   "metadata": {},
   "outputs": [],
   "source": [
    "# present = {\"l\":[3]} # {\"e\":[],\"a\":[],\"s\":[0,2,4]}\n",
    "# correct = {} # {\"s\":i}\n",
    "# absent = [\"c\",\"e\",\"s\",\"p\",\"y\",\"d\",\"m\",\"o\",\"n\",\"a\",\"r\",\"b\",\"u\",\"i\",\"t\"]  # [\"s\",\"s\",\"s\"]"
   ]
  },
  {
   "cell_type": "code",
   "execution_count": 46,
   "metadata": {},
   "outputs": [
    {
     "data": {
      "text/plain": [
       "50"
      ]
     },
     "execution_count": 46,
     "metadata": {},
     "output_type": "execute_result"
    }
   ],
   "source": [
    "present_filtered = filter_present(present,clean_list)\n",
    "len(present_filtered)"
   ]
  },
  {
   "cell_type": "code",
   "execution_count": 47,
   "metadata": {},
   "outputs": [
    {
     "name": "stdout",
     "output_type": "stream",
     "text": [
      "e 3\n",
      "e 4\n"
     ]
    },
    {
     "data": {
      "text/plain": [
       "29"
      ]
     },
     "execution_count": 47,
     "metadata": {},
     "output_type": "execute_result"
    }
   ],
   "source": [
    "present_spot_filtered = filter_present_spot(present,present_filtered)\n",
    "len(present_spot_filtered)"
   ]
  },
  {
   "cell_type": "code",
   "execution_count": 48,
   "metadata": {},
   "outputs": [
    {
     "data": {
      "text/plain": [
       "15"
      ]
     },
     "execution_count": 48,
     "metadata": {},
     "output_type": "execute_result"
    }
   ],
   "source": [
    "absent_filtered = filter_absent(absent, present_spot_filtered)\n",
    "len(absent_filtered)"
   ]
  },
  {
   "cell_type": "code",
   "execution_count": 49,
   "metadata": {},
   "outputs": [
    {
     "data": {
      "text/plain": [
       "['plebs',\n",
       " 'kelps',\n",
       " 'elops',\n",
       " 'peels',\n",
       " 'sleep',\n",
       " 'leeps',\n",
       " 'spelk',\n",
       " 'speel',\n",
       " 'pells',\n",
       " 'pelfs',\n",
       " 'yelps',\n",
       " 'peles',\n",
       " 'plews',\n",
       " 'spell',\n",
       " 'skelp']"
      ]
     },
     "execution_count": 49,
     "metadata": {},
     "output_type": "execute_result"
    }
   ],
   "source": [
    "absent_filtered"
   ]
  },
  {
   "cell_type": "code",
   "execution_count": 50,
   "metadata": {},
   "outputs": [
    {
     "data": {
      "text/plain": [
       "2"
      ]
     },
     "execution_count": 50,
     "metadata": {},
     "output_type": "execute_result"
    }
   ],
   "source": [
    "correct_filtered = filter_correct(correct,absent_filtered)\n",
    "len(correct_filtered)"
   ]
  },
  {
   "cell_type": "code",
   "execution_count": 51,
   "metadata": {},
   "outputs": [
    {
     "data": {
      "text/plain": [
       "['spelk', 'spell']"
      ]
     },
     "execution_count": 51,
     "metadata": {},
     "output_type": "execute_result"
    }
   ],
   "source": [
    "correct_filtered"
   ]
  },
  {
   "cell_type": "code",
   "execution_count": 40,
   "metadata": {},
   "outputs": [],
   "source": [
    "letter_rate_2 = count_letters(correct_filtered)"
   ]
  },
  {
   "cell_type": "code",
   "execution_count": 41,
   "metadata": {},
   "outputs": [],
   "source": [
    "l, s = rate_word(correct_filtered,letter_rate_2)"
   ]
  },
  {
   "cell_type": "markdown",
   "metadata": {},
   "source": []
  },
  {
   "cell_type": "code",
   "execution_count": 42,
   "metadata": {},
   "outputs": [
    {
     "data": {
      "text/plain": [
       "{'swell': 174,\n",
       " 'seedy': 146,\n",
       " 'skeef': 170,\n",
       " 'segue': 138,\n",
       " 'seeps': 133,\n",
       " 'sewel': 142,\n",
       " 'seels': 145,\n",
       " 'speug': 169,\n",
       " 'sweel': 168,\n",
       " 'speos': 169,\n",
       " 'smews': 162,\n",
       " 'sells': 134,\n",
       " 'sweys': 161,\n",
       " 'slebs': 160,\n",
       " 'speks': 166,\n",
       " 'sexed': 141,\n",
       " 'skell': 183,\n",
       " 'seles': 134,\n",
       " 'sepoy': 145,\n",
       " 'seeld': 154,\n",
       " 'sekos': 137,\n",
       " 'seems': 131,\n",
       " 'sneed': 166,\n",
       " 'segno': 140,\n",
       " 'seyen': 136,\n",
       " 'sneds': 165,\n",
       " 'seven': 136,\n",
       " 'smeek': 160,\n",
       " 'sleep': 161,\n",
       " 'swees': 159,\n",
       " 'syens': 158,\n",
       " 'skene': 173,\n",
       " 'sexes': 132,\n",
       " 'snees': 157,\n",
       " 'sewen': 138,\n",
       " 'seeds': 138,\n",
       " 'seeks': 133,\n",
       " 'swede': 167,\n",
       " 'senes': 134,\n",
       " 'sebum': 138,\n",
       " 'semee': 133,\n",
       " 'skeed': 177,\n",
       " 'spelk': 181,\n",
       " 'slews': 163,\n",
       " 'skeds': 176,\n",
       " 'suede': 161,\n",
       " 'speel': 172,\n",
       " 'spews': 168,\n",
       " 'sedgy': 146,\n",
       " 'sesey': 138,\n",
       " 'seely': 153,\n",
       " 'segol': 149,\n",
       " 'sedes': 134,\n",
       " 'sleek': 161,\n",
       " 'selfs': 135,\n",
       " 'spewy': 176,\n",
       " 'semen': 138,\n",
       " 'smell': 172,\n",
       " 'skees': 168,\n",
       " 'senvy': 143,\n",
       " 'sleys': 160,\n",
       " 'speed': 172,\n",
       " 'skeen': 173,\n",
       " 'sewed': 142,\n",
       " 'skews': 173,\n",
       " 'snell': 172,\n",
       " 'spend': 177,\n",
       " 'sleds': 166,\n",
       " 'sweed': 168,\n",
       " 'spell': 178,\n",
       " 'skegg': 172,\n",
       " 'skelp': 186,\n",
       " 'smeke': 160,\n",
       " 'skeps': 171,\n",
       " 'sweep': 162,\n",
       " 'snebs': 159,\n",
       " 'skelm': 186,\n",
       " 'sedge': 138,\n",
       " 'skelf': 185,\n",
       " 'skegs': 172,\n",
       " 'skens': 173,\n",
       " 'sends': 142,\n",
       " 'skeos': 174,\n",
       " 'smees': 157,\n",
       " 'semes': 133,\n",
       " 'speld': 187,\n",
       " 'sedum': 141,\n",
       " 'segos': 140,\n",
       " 'seepy': 141,\n",
       " 'sense': 134,\n",
       " 'selle': 134}"
      ]
     },
     "execution_count": 42,
     "metadata": {},
     "output_type": "execute_result"
    }
   ],
   "source": [
    "s"
   ]
  },
  {
   "cell_type": "code",
   "execution_count": 43,
   "metadata": {},
   "outputs": [
    {
     "data": {
      "text/plain": [
       "'speld'"
      ]
     },
     "execution_count": 43,
     "metadata": {},
     "output_type": "execute_result"
    }
   ],
   "source": [
    "number = sorted(list(s.values()), reverse= True)[0]\n",
    "sorted(list(s.values()), reverse= True)\n",
    "\n",
    "list(s.keys())[list(s.values()).index(number)]"
   ]
  },
  {
   "cell_type": "code",
   "execution_count": 23,
   "metadata": {},
   "outputs": [],
   "source": [
    "# sorted(list(s.values()), reverse= True)"
   ]
  },
  {
   "cell_type": "code",
   "execution_count": 24,
   "metadata": {},
   "outputs": [
    {
     "data": {
      "image/png": "[encoded data removed]",
      "text/plain": [
       "<Figure size 432x288 with 1 Axes>"
      ]
     },
     "metadata": {
      "needs_background": "light"
     },
     "output_type": "display_data"
    },
    {
     "data": {
      "image/png": "[encoded data removed]",
      "text/plain": [
       "<Figure size 432x288 with 1 Axes>"
      ]
     },
     "metadata": {
      "needs_background": "light"
     },
     "output_type": "display_data"
    },
    {
     "data": {
      "image/png": "[encoded data removed]",
      "text/plain": [
       "<Figure size 432x288 with 1 Axes>"
      ]
     },
     "metadata": {
      "needs_background": "light"
     },
     "output_type": "display_data"
    },
    {
     "data": {
      "image/png": "[encoded data removed]",
      "text/plain": [
       "<Figure size 432x288 with 1 Axes>"
      ]
     },
     "metadata": {
      "needs_background": "light"
     },
     "output_type": "display_data"
    },
    {
     "data": {
      "image/png": "[encoded data removed]",
      "text/plain": [
       "<Figure size 432x288 with 1 Axes>"
      ]
     },
     "metadata": {
      "needs_background": "light"
     },
     "output_type": "display_data"
    }
   ],
   "source": [
    "for p in letter_rate_2:\n",
    "    title_list = [\"first\",\"second\",\"third\",\"four\",\"five\"]\n",
    "    plt.bar(list(letter_rate_2[p].keys()), letter_rate_2[p].values())\n",
    "    plt.title(title_list[p])\n",
    "    plt.show()"
   ]
  },
  {
   "cell_type": "code",
   "execution_count": null,
   "metadata": {},
   "outputs": [],
   "source": []
  },
  {
   "cell_type": "code",
   "execution_count": null,
   "metadata": {},
   "outputs": [],
   "source": []
  }
 ],
 "metadata": {
  "interpreter": {
   "hash": "50e31668aeaaba6bdb56ad8203512d9a0a7e869ce5c3cbd763561918d3ef40e3"
  },
  "kernelspec": {
   "display_name": "Python 3.8.8 ('mlcourse')",
   "language": "python",
   "name": "python3"
  },
  "language_info": {
   "codemirror_mode": {
    "name": "ipython",
    "version": 3
   },
   "file_extension": ".py",
   "mimetype": "text/x-python",
   "name": "python",
   "nbconvert_exporter": "python",
   "pygments_lexer": "ipython3",
   "version": "3.8.8"
  },
  "orig_nbformat": 4
 },
 "nbformat": 4,
 "nbformat_minor": 2
}
