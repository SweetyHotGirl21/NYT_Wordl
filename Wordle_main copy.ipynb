{
 "cells": [
  {
   "cell_type": "code",
   "execution_count": 33,
   "metadata": {},
   "outputs": [],
   "source": [
    "# data manipilation\n",
    "import pandas as pd\n",
    "import numpy as np\n",
    "\n",
    "import json\n",
    "\n",
    "# plot\n",
    "import matplotlib.pyplot as plt\n",
    "\n",
    "# functions\n",
    "from functions.functions import *"
   ]
  },
  {
   "cell_type": "code",
   "execution_count": 2,
   "metadata": {},
   "outputs": [],
   "source": [
    "# loading data\n",
    "with open('data\\wordsapi_sample.json') as json_file:\n",
    "    data_lex = json.load(json_file)\n",
    "\n",
    "with open(\"Data\\wordle-nyt-allowed-guesses.txt\", \"r\", newline=\"\\n\") as guess:\n",
    "    data_guess = guess.read().splitlines()\n",
    "\n",
    "with open(\"Data\\wordle-nyt-answers-alphabetical.txt\", \"r\", newline=\"\\n\") as awn:\n",
    "    data_awn = awn.read().splitlines()\n",
    "\n",
    "# create word list from dictionary entries\n",
    "word_list = list(data_lex.keys())"
   ]
  },
  {
   "cell_type": "code",
   "execution_count": 3,
   "metadata": {},
   "outputs": [],
   "source": [
    "lex_clean = by_size(word_list,5)"
   ]
  },
  {
   "cell_type": "code",
   "execution_count": 4,
   "metadata": {},
   "outputs": [
    {
     "name": "stdout",
     "output_type": "stream",
     "text": [
      "13928\n",
      "13316\n"
     ]
    }
   ],
   "source": [
    "merge_list = lex_clean + data_guess + data_awn\n",
    "print(len(merge_list))\n",
    "clean_list = list(set(merge_list))\n",
    "print(len(clean_list))"
   ]
  },
  {
   "cell_type": "code",
   "execution_count": 5,
   "metadata": {},
   "outputs": [],
   "source": [
    "letter = count_letters(clean_list)"
   ]
  },
  {
   "cell_type": "code",
   "execution_count": 6,
   "metadata": {},
   "outputs": [],
   "source": [
    "# for p in letter:\n",
    "#     title_list = [\"first\",\"second\",\"third\",\"four\",\"five\"]\n",
    "#     plt.bar(list(letter[p].keys()), letter[p].values())\n",
    "#     plt.title(title_list[p])\n",
    "#     plt.show()"
   ]
  },
  {
   "cell_type": "code",
   "execution_count": 7,
   "metadata": {},
   "outputs": [
    {
     "data": {
      "text/plain": [
       "'cares'"
      ]
     },
     "execution_count": 7,
     "metadata": {},
     "output_type": "execute_result"
    }
   ],
   "source": [
    "word_rated, word_begin = rate_word(clean_list,letter)\n",
    "sorted(list(word_begin.values()), reverse= True)\n",
    "list(word_begin.keys())[list(word_begin.values()).index(10862)]\n"
   ]
  },
  {
   "cell_type": "code",
   "execution_count": 8,
   "metadata": {},
   "outputs": [],
   "source": [
    "class Game:\n",
    "    def __init__(self):\n",
    "        self.line = 0\n",
    "        self.present = dict() # dictonary of lists    {\"s\",l}\n",
    "        self.correct = dict() # dictonary of integers {\"s\",i}\n",
    "        self.absent = []      # list of stings [\"s\"]\n",
    "    \n",
    "    def guess(self, string_guess):\n",
    "        self.line += 1\n",
    "\n",
    "    \n",
    "        \n"
   ]
  },
  {
   "cell_type": "code",
   "execution_count": 9,
   "metadata": {},
   "outputs": [],
   "source": [
    "guess_1 = \"cares\""
   ]
  },
  {
   "cell_type": "code",
   "execution_count": 10,
   "metadata": {},
   "outputs": [
    {
     "data": {
      "text/plain": [
       "13316"
      ]
     },
     "execution_count": 10,
     "metadata": {},
     "output_type": "execute_result"
    }
   ],
   "source": [
    "len(clean_list)"
   ]
  },
  {
   "cell_type": "code",
   "execution_count": 24,
   "metadata": {},
   "outputs": [],
   "source": [
    "present = {\"r\":[],\"s\":[],\"o\":[],\"t\":[4]} # {\"e\":[],\"a\":[],\"s\":[0,2,4]}\n",
    "correct = {\"s\":0,\"o\":2,\"r\":3} # {\"s\":i}\n",
    "absent = [\"c\",\"a\",\"e\",\"h\"]  # [\"s\",\"s\",\"s\"]"
   ]
  },
  {
   "cell_type": "code",
   "execution_count": 25,
   "metadata": {},
   "outputs": [],
   "source": [
    "# present = {\"l\":[3]} # {\"e\":[],\"a\":[],\"s\":[0,2,4]}\n",
    "# correct = {} # {\"s\":i}\n",
    "# absent = [\"c\",\"e\",\"s\",\"p\",\"y\",\"d\",\"m\",\"o\",\"n\",\"a\",\"r\",\"b\",\"u\",\"i\",\"t\"]  # [\"s\",\"s\",\"s\"]"
   ]
  },
  {
   "cell_type": "code",
   "execution_count": 26,
   "metadata": {},
   "outputs": [
    {
     "data": {
      "text/plain": [
       "75"
      ]
     },
     "execution_count": 26,
     "metadata": {},
     "output_type": "execute_result"
    }
   ],
   "source": [
    "present_filtered = filter_present(present,clean_list)\n",
    "len(present_filtered)"
   ]
  },
  {
   "cell_type": "code",
   "execution_count": 27,
   "metadata": {},
   "outputs": [
    {
     "name": "stdout",
     "output_type": "stream",
     "text": [
      "t 4\n"
     ]
    },
    {
     "data": {
      "text/plain": [
       "59"
      ]
     },
     "execution_count": 27,
     "metadata": {},
     "output_type": "execute_result"
    }
   ],
   "source": [
    "present_spot_filtered = filter_present_spot(present,present_filtered)\n",
    "len(present_spot_filtered)"
   ]
  },
  {
   "cell_type": "code",
   "execution_count": 28,
   "metadata": {},
   "outputs": [
    {
     "data": {
      "text/plain": [
       "47"
      ]
     },
     "execution_count": 28,
     "metadata": {},
     "output_type": "execute_result"
    }
   ],
   "source": [
    "absent_filtered = filter_absent(absent, present_spot_filtered)\n",
    "len(absent_filtered)"
   ]
  },
  {
   "cell_type": "code",
   "execution_count": 29,
   "metadata": {},
   "outputs": [
    {
     "data": {
      "text/plain": [
       "['tyros',\n",
       " 'ronts',\n",
       " 'rotis',\n",
       " 'trogs',\n",
       " 'trios',\n",
       " 'trots',\n",
       " 'torsi',\n",
       " 'roots',\n",
       " 'forts',\n",
       " 'stour',\n",
       " 'strow',\n",
       " 'torts',\n",
       " 'worts',\n",
       " 'stork',\n",
       " 'sorts',\n",
       " 'ryots',\n",
       " 'storm',\n",
       " 'rowts',\n",
       " 'stroy',\n",
       " 'trows',\n",
       " 'riots',\n",
       " 'tiros',\n",
       " 'rorts',\n",
       " 'grots',\n",
       " 'sutor',\n",
       " 'stoor',\n",
       " 'rosts',\n",
       " 'routs',\n",
       " 'tours',\n",
       " 'trods',\n",
       " 'torsk',\n",
       " 'toros',\n",
       " 'story',\n",
       " 'trons',\n",
       " 'torso',\n",
       " 'rotls',\n",
       " 'torrs',\n",
       " 'dorts',\n",
       " 'borts',\n",
       " 'troys',\n",
       " 'strop',\n",
       " 'torus',\n",
       " 'rotos',\n",
       " 'morts',\n",
       " 'rosti',\n",
       " 'trois',\n",
       " 'ports']"
      ]
     },
     "execution_count": 29,
     "metadata": {},
     "output_type": "execute_result"
    }
   ],
   "source": [
    "absent_filtered"
   ]
  },
  {
   "cell_type": "code",
   "execution_count": 30,
   "metadata": {},
   "outputs": [
    {
     "data": {
      "text/plain": [
       "3"
      ]
     },
     "execution_count": 30,
     "metadata": {},
     "output_type": "execute_result"
    }
   ],
   "source": [
    "correct_filtered = filter_correct(correct,absent_filtered)\n",
    "len(correct_filtered)"
   ]
  },
  {
   "cell_type": "code",
   "execution_count": 31,
   "metadata": {},
   "outputs": [
    {
     "data": {
      "text/plain": [
       "['stork', 'storm', 'story']"
      ]
     },
     "execution_count": 31,
     "metadata": {},
     "output_type": "execute_result"
    }
   ],
   "source": [
    "correct_filtered"
   ]
  },
  {
   "cell_type": "code",
   "execution_count": 32,
   "metadata": {},
   "outputs": [],
   "source": [
    "letter_rate_2 = count_letters(correct_filtered)"
   ]
  },
  {
   "cell_type": "code",
   "execution_count": 21,
   "metadata": {},
   "outputs": [],
   "source": [
    "l, s = rate_word(correct_filtered,letter_rate_2)"
   ]
  },
  {
   "cell_type": "code",
   "execution_count": 22,
   "metadata": {},
   "outputs": [
    {
     "data": {
      "text/plain": [
       "{'snirt': 150,\n",
       " 'short': 156,\n",
       " 'smurs': 120,\n",
       " 'stirk': 140,\n",
       " 'dross': 95,\n",
       " 'visor': 46,\n",
       " 'frisk': 107,\n",
       " 'usurp': 52,\n",
       " 'slurp': 121,\n",
       " 'roshi': 53,\n",
       " 'skyrs': 102,\n",
       " 'swirl': 129,\n",
       " 'sudor': 81,\n",
       " 'roust': 108,\n",
       " 'slurb': 119,\n",
       " 'grosz': 98,\n",
       " 'rusks': 45,\n",
       " 'spiry': 141,\n",
       " 'briss': 99,\n",
       " 'risus': 46,\n",
       " 'skirr': 128,\n",
       " 'prost': 124,\n",
       " 'stour': 108,\n",
       " 'rosin': 55,\n",
       " 'rusts': 46,\n",
       " 'stork': 140,\n",
       " 'slurs': 118,\n",
       " 'trist': 97,\n",
       " 'smirk': 137,\n",
       " 'frist': 124,\n",
       " 'sopor': 78,\n",
       " 'storm': 135,\n",
       " 'smirr': 129,\n",
       " 'roist': 117,\n",
       " 'slorm': 130,\n",
       " 'spurs': 122,\n",
       " 'roost': 88,\n",
       " 'spurn': 127,\n",
       " 'skirt': 153,\n",
       " 'smoor': 100,\n",
       " 'skort': 153,\n",
       " 'grist': 122,\n",
       " 'tryst': 71,\n",
       " 'gross': 97,\n",
       " 'rosit': 75,\n",
       " 'prism': 102,\n",
       " 'sworn': 131,\n",
       " 'smirs': 129,\n",
       " 'sport': 156,\n",
       " 'prosy': 109,\n",
       " 'shirt': 156,\n",
       " 'frost': 124,\n",
       " 'shiur': 107,\n",
       " 'sutor': 81,\n",
       " 'stirs': 132,\n",
       " 'sword': 128,\n",
       " 'stoor': 103,\n",
       " 'rosts': 51,\n",
       " 'usury': 59,\n",
       " 'proso': 99,\n",
       " 'risky': 54,\n",
       " 'grisy': 107,\n",
       " 'urson': 65,\n",
       " 'pross': 99,\n",
       " 'rishi': 44,\n",
       " 'rusty': 56,\n",
       " 'sohur': 84,\n",
       " 'ursid': 57,\n",
       " 'risps': 42,\n",
       " 'suhur': 74,\n",
       " 'story': 142,\n",
       " 'rushy': 55,\n",
       " 'stirp': 135,\n",
       " 'brust': 115,\n",
       " 'spurt': 147,\n",
       " 'snort': 150,\n",
       " 'shorn': 136,\n",
       " 'shirs': 131,\n",
       " 'shorl': 134,\n",
       " 'frush': 93,\n",
       " 'trust': 88,\n",
       " 'wrist': 119,\n",
       " 'frust': 115,\n",
       " 'shirr': 131,\n",
       " 'brush': 93,\n",
       " 'sturt': 123,\n",
       " 'brusk': 98,\n",
       " 'royst': 91,\n",
       " 'priss': 99,\n",
       " 'truss': 88,\n",
       " 'spoor': 102,\n",
       " 'frosh': 102,\n",
       " 'sours': 126,\n",
       " 'risks': 44,\n",
       " 'spirt': 156,\n",
       " 'smorg': 130,\n",
       " 'brosy': 109,\n",
       " 'rosti': 54,\n",
       " 'spork': 139,\n",
       " 'skirl': 131,\n",
       " 'shirk': 139,\n",
       " 'brisk': 107,\n",
       " 'drusy': 96}"
      ]
     },
     "execution_count": 22,
     "metadata": {},
     "output_type": "execute_result"
    }
   ],
   "source": [
    "s"
   ]
  },
  {
   "cell_type": "code",
   "execution_count": 23,
   "metadata": {},
   "outputs": [
    {
     "data": {
      "text/plain": [
       "'short'"
      ]
     },
     "execution_count": 23,
     "metadata": {},
     "output_type": "execute_result"
    }
   ],
   "source": [
    "number = sorted(list(s.values()), reverse= True)[0]\n",
    "sorted(list(s.values()), reverse= True)\n",
    "\n",
    "list(s.keys())[list(s.values()).index(number)]"
   ]
  },
  {
   "cell_type": "code",
   "execution_count": 79,
   "metadata": {},
   "outputs": [],
   "source": [
    "# sorted(list(s.values()), reverse= True)"
   ]
  },
  {
   "cell_type": "code",
   "execution_count": 44,
   "metadata": {},
   "outputs": [
    {
     "data": {
      "image/png": "[encoded data removed]",
      "text/plain": [
       "<Figure size 432x288 with 1 Axes>"
      ]
     },
     "metadata": {
      "needs_background": "light"
     },
     "output_type": "display_data"
    },
    {
     "data": {
      "image/png": "[encoded data removed]",
      "text/plain": [
       "<Figure size 432x288 with 1 Axes>"
      ]
     },
     "metadata": {
      "needs_background": "light"
     },
     "output_type": "display_data"
    },
    {
     "data": {
      "image/png": "[encoded data removed]",
      "text/plain": [
       "<Figure size 432x288 with 1 Axes>"
      ]
     },
     "metadata": {
      "needs_background": "light"
     },
     "output_type": "display_data"
    },
    {
     "data": {
      "image/png": "[encoded data removed]",
      "text/plain": [
       "<Figure size 432x288 with 1 Axes>"
      ]
     },
     "metadata": {
      "needs_background": "light"
     },
     "output_type": "display_data"
    },
    {
     "data": {
      "image/png": "[encoded data removed]",
      "text/plain": [
       "<Figure size 432x288 with 1 Axes>"
      ]
     },
     "metadata": {
      "needs_background": "light"
     },
     "output_type": "display_data"
    }
   ],
   "source": [
    "for p in letter_rate_2:\n",
    "    title_list = [\"first\",\"second\",\"third\",\"four\",\"five\"]\n",
    "    plt.bar(list(letter_rate_2[p].keys()), letter_rate_2[p].values())\n",
    "    plt.title(title_list[p])\n",
    "    plt.show()"
   ]
  },
  {
   "cell_type": "code",
   "execution_count": null,
   "metadata": {},
   "outputs": [],
   "source": []
  }
 ],
 "metadata": {
  "interpreter": {
   "hash": "336971fafdea4dd09ec2761f58af3b40b8710e0ba3f20d61b9731f8474bc36e8"
  },
  "kernelspec": {
   "display_name": "Python 3.8.8 ('mlcourse')",
   "language": "python",
   "name": "python3"
  },
  "language_info": {
   "codemirror_mode": {
    "name": "ipython",
    "version": 3
   },
   "file_extension": ".py",
   "mimetype": "text/x-python",
   "name": "python",
   "nbconvert_exporter": "python",
   "pygments_lexer": "ipython3",
   "version": "3.8.8"
  },
  "orig_nbformat": 4
 },
 "nbformat": 4,
 "nbformat_minor": 2
}
