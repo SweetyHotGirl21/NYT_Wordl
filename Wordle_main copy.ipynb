{
 "cells": [
  {
   "cell_type": "code",
   "execution_count": 1,
   "metadata": {},
   "outputs": [],
   "source": [
    "# data manipilation\n",
    "import pandas as pd\n",
    "import numpy as np\n",
    "\n",
    "import json\n",
    "\n",
    "# plot\n",
    "import matplotlib.pyplot as plt\n",
    "\n",
    "# functions\n",
    "from functions.functions import *"
   ]
  },
  {
   "cell_type": "code",
   "execution_count": 2,
   "metadata": {},
   "outputs": [],
   "source": [
    "# loading data\n",
    "# with open('data\\wordsapi_sample.json') as json_file:\n",
    "#     data_lex = json.load(json_file)\n",
    "\n",
    "with open(\"Data\\wordle-nyt-allowed-guesses.txt\", \"r\", newline=\"\\n\") as guess:\n",
    "    data_guess = guess.read().splitlines()\n",
    "\n",
    "with open(\"Data\\wordle-nyt-answers-alphabetical.txt\", \"r\", newline=\"\\n\") as awn:\n",
    "    data_awn = awn.read().splitlines()\n",
    "\n",
    "# create word list from dictionary entries\n",
    "# word_list = list(data_lex.keys())"
   ]
  },
  {
   "cell_type": "code",
   "execution_count": 3,
   "metadata": {},
   "outputs": [],
   "source": [
    "# lex_clean = by_size(word_list,5)"
   ]
  },
  {
   "cell_type": "code",
   "execution_count": 4,
   "metadata": {},
   "outputs": [
    {
     "name": "stdout",
     "output_type": "stream",
     "text": [
      "12947\n",
      "12947\n"
     ]
    }
   ],
   "source": [
    "merge_list = data_guess + data_awn # lex_clean + \n",
    "print(len(merge_list))\n",
    "clean_list = list(set(merge_list))\n",
    "print(len(clean_list))"
   ]
  },
  {
   "cell_type": "code",
   "execution_count": 5,
   "metadata": {},
   "outputs": [],
   "source": [
    "letter = count_letters(clean_list)"
   ]
  },
  {
   "cell_type": "code",
   "execution_count": 6,
   "metadata": {},
   "outputs": [],
   "source": [
    "# for p in letter:\n",
    "#     title_list = [\"first\",\"second\",\"third\",\"four\",\"five\"]\n",
    "#     plt.bar(list(letter[p].keys()), letter[p].values())\n",
    "#     plt.title(title_list[p])\n",
    "#     plt.show()"
   ]
  },
  {
   "cell_type": "code",
   "execution_count": 7,
   "metadata": {},
   "outputs": [],
   "source": [
    "word_rated, word_begin = rate_word(clean_list,letter)\n",
    "# sorted(list(word_begin.values()), reverse= True)\n",
    "# list(word_begin.keys())[list(word_begin.values()).index(10862)]\n"
   ]
  },
  {
   "cell_type": "code",
   "execution_count": 8,
   "metadata": {},
   "outputs": [],
   "source": [
    "class Game:\n",
    "    def __init__(self):\n",
    "        self.line = 0\n",
    "        self.present = dict() # dictonary of lists    {\"s\",l}\n",
    "        self.correct = dict() # dictonary of integers {\"s\",i}\n",
    "        self.absent = []      # list of stings [\"s\"]\n",
    "    \n",
    "    def guess(self, string_guess):\n",
    "        self.line += 1\n",
    "\n",
    "    \n",
    "        \n"
   ]
  },
  {
   "cell_type": "code",
   "execution_count": 9,
   "metadata": {},
   "outputs": [],
   "source": [
    "guess_1 = \"cares\""
   ]
  },
  {
   "cell_type": "code",
   "execution_count": 10,
   "metadata": {},
   "outputs": [
    {
     "data": {
      "text/plain": [
       "12947"
      ]
     },
     "execution_count": 10,
     "metadata": {},
     "output_type": "execute_result"
    }
   ],
   "source": [
    "len(clean_list)"
   ]
  },
  {
   "cell_type": "code",
   "execution_count": 62,
   "metadata": {},
   "outputs": [],
   "source": [
    "present = {\"r\":[],\"e\":[],\"i\":[],\"t\":[]} # {\"e\":[],\"a\":[],\"s\":[0,2,4]}\n",
    "correct = {\"r\":1,\"e\":4,\"i\":2,\"t\":3} # {\"s\":i}\n",
    "absent = [\"c\",\"a\",\"s\",\"p\",\"o\",\"n\",\"g\",\"k\",\"b\",\"d\"]  # [\"s\",\"s\",\"s\"]"
   ]
  },
  {
   "cell_type": "code",
   "execution_count": 63,
   "metadata": {},
   "outputs": [],
   "source": [
    "# present = {\"l\":[3]} # {\"e\":[],\"a\":[],\"s\":[0,2,4]}\n",
    "# correct = {} # {\"s\":i}\n",
    "# absent = [\"c\",\"e\",\"s\",\"p\",\"y\",\"d\",\"m\",\"o\",\"n\",\"a\",\"r\",\"b\",\"u\",\"i\",\"t\"]  # [\"s\",\"s\",\"s\"]"
   ]
  },
  {
   "cell_type": "code",
   "execution_count": 64,
   "metadata": {},
   "outputs": [
    {
     "data": {
      "text/plain": [
       "58"
      ]
     },
     "execution_count": 64,
     "metadata": {},
     "output_type": "execute_result"
    }
   ],
   "source": [
    "present_filtered = filter_present(present,clean_list)\n",
    "len(present_filtered)"
   ]
  },
  {
   "cell_type": "code",
   "execution_count": 65,
   "metadata": {},
   "outputs": [
    {
     "data": {
      "text/plain": [
       "58"
      ]
     },
     "execution_count": 65,
     "metadata": {},
     "output_type": "execute_result"
    }
   ],
   "source": [
    "present_spot_filtered = filter_present_spot(present,present_filtered)\n",
    "len(present_spot_filtered)"
   ]
  },
  {
   "cell_type": "code",
   "execution_count": 66,
   "metadata": {},
   "outputs": [
    {
     "data": {
      "text/plain": [
       "27"
      ]
     },
     "execution_count": 66,
     "metadata": {},
     "output_type": "execute_result"
    }
   ],
   "source": [
    "absent_filtered = filter_absent(absent, present_spot_filtered)\n",
    "len(absent_filtered)"
   ]
  },
  {
   "cell_type": "code",
   "execution_count": 67,
   "metadata": {},
   "outputs": [
    {
     "data": {
      "text/plain": [
       "['remit',\n",
       " 'merit',\n",
       " 'titre',\n",
       " 'timer',\n",
       " 'freit',\n",
       " 'rifte',\n",
       " 'ither',\n",
       " 'litre',\n",
       " 'relit',\n",
       " 'twire',\n",
       " 'tetri',\n",
       " 'liter',\n",
       " 'urite',\n",
       " 'their',\n",
       " 'write',\n",
       " 'refit',\n",
       " 'mitre',\n",
       " 'uteri',\n",
       " 'retie',\n",
       " 'twier',\n",
       " 'titer',\n",
       " 'trite',\n",
       " 'tiler',\n",
       " 'trier',\n",
       " 'treif',\n",
       " 'rivet',\n",
       " 'miter']"
      ]
     },
     "execution_count": 67,
     "metadata": {},
     "output_type": "execute_result"
    }
   ],
   "source": [
    "absent_filtered"
   ]
  },
  {
   "cell_type": "code",
   "execution_count": 68,
   "metadata": {},
   "outputs": [
    {
     "data": {
      "text/plain": [
       "2"
      ]
     },
     "execution_count": 68,
     "metadata": {},
     "output_type": "execute_result"
    }
   ],
   "source": [
    "correct_filtered = filter_correct(correct,absent_filtered)\n",
    "len(correct_filtered)"
   ]
  },
  {
   "cell_type": "code",
   "execution_count": 69,
   "metadata": {},
   "outputs": [
    {
     "data": {
      "text/plain": [
       "['urite', 'write']"
      ]
     },
     "execution_count": 69,
     "metadata": {},
     "output_type": "execute_result"
    }
   ],
   "source": [
    "correct_filtered"
   ]
  },
  {
   "cell_type": "code",
   "execution_count": 70,
   "metadata": {},
   "outputs": [],
   "source": [
    "letter_rate_2 = count_letters(correct_filtered)"
   ]
  },
  {
   "cell_type": "code",
   "execution_count": 71,
   "metadata": {},
   "outputs": [],
   "source": [
    "l, s = rate_word(correct_filtered,letter_rate_2)"
   ]
  },
  {
   "cell_type": "code",
   "execution_count": 72,
   "metadata": {},
   "outputs": [
    {
     "data": {
      "text/plain": [
       "{'urite': 9, 'write': 9}"
      ]
     },
     "execution_count": 72,
     "metadata": {},
     "output_type": "execute_result"
    }
   ],
   "source": [
    "s"
   ]
  },
  {
   "cell_type": "code",
   "execution_count": 73,
   "metadata": {},
   "outputs": [
    {
     "data": {
      "text/plain": [
       "'urite'"
      ]
     },
     "execution_count": 73,
     "metadata": {},
     "output_type": "execute_result"
    }
   ],
   "source": [
    "number = sorted(list(s.values()), reverse= True)[0]\n",
    "sorted(list(s.values()), reverse= True)\n",
    "\n",
    "list(s.keys())[list(s.values()).index(number)]"
   ]
  },
  {
   "cell_type": "code",
   "execution_count": 24,
   "metadata": {},
   "outputs": [],
   "source": [
    "# sorted(list(s.values()), reverse= True)"
   ]
  },
  {
   "cell_type": "code",
   "execution_count": 25,
   "metadata": {},
   "outputs": [
    {
     "data": {
      "image/png": "[encoded data removed]",
      "text/plain": [
       "<Figure size 432x288 with 1 Axes>"
      ]
     },
     "metadata": {
      "needs_background": "light"
     },
     "output_type": "display_data"
    },
    {
     "data": {
      "image/png": "[encoded data removed]",
      "text/plain": [
       "<Figure size 432x288 with 1 Axes>"
      ]
     },
     "metadata": {
      "needs_background": "light"
     },
     "output_type": "display_data"
    },
    {
     "data": {
      "image/png": "[encoded data removed]",
      "text/plain": [
       "<Figure size 432x288 with 1 Axes>"
      ]
     },
     "metadata": {
      "needs_background": "light"
     },
     "output_type": "display_data"
    },
    {
     "data": {
      "image/png": "[encoded data removed]",
      "text/plain": [
       "<Figure size 432x288 with 1 Axes>"
      ]
     },
     "metadata": {
      "needs_background": "light"
     },
     "output_type": "display_data"
    },
    {
     "data": {
      "image/png": "[encoded data removed]",
      "text/plain": [
       "<Figure size 432x288 with 1 Axes>"
      ]
     },
     "metadata": {
      "needs_background": "light"
     },
     "output_type": "display_data"
    }
   ],
   "source": [
    "for p in letter_rate_2:\n",
    "    title_list = [\"first\",\"second\",\"third\",\"four\",\"five\"]\n",
    "    plt.bar(list(letter_rate_2[p].keys()), letter_rate_2[p].values())\n",
    "    plt.title(title_list[p])\n",
    "    plt.show()"
   ]
  },
  {
   "cell_type": "code",
   "execution_count": null,
   "metadata": {},
   "outputs": [],
   "source": []
  }
 ],
 "metadata": {
  "interpreter": {
   "hash": "50e31668aeaaba6bdb56ad8203512d9a0a7e869ce5c3cbd763561918d3ef40e3"
  },
  "kernelspec": {
   "display_name": "Python 3.8.8 ('mlcourse')",
   "language": "python",
   "name": "python3"
  },
  "language_info": {
   "codemirror_mode": {
    "name": "ipython",
    "version": 3
   },
   "file_extension": ".py",
   "mimetype": "text/x-python",
   "name": "python",
   "nbconvert_exporter": "python",
   "pygments_lexer": "ipython3",
   "version": "3.8.8"
  },
  "orig_nbformat": 4
 },
 "nbformat": 4,
 "nbformat_minor": 2
}
